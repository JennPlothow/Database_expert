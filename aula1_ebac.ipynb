{
  "nbformat": 4,
  "nbformat_minor": 0,
  "metadata": {
    "colab": {
      "provenance": [],
      "collapsed_sections": [],
      "authorship_tag": "ABX9TyMBF3nW7BQUU1xBgIH2cjBh",
      "include_colab_link": true
    },
    "kernelspec": {
      "name": "python3",
      "display_name": "Python 3"
    },
    "language_info": {
      "name": "python"
    }
  },
  "cells": [
    {
      "cell_type": "markdown",
      "metadata": {
        "id": "view-in-github",
        "colab_type": "text"
      },
      "source": [
        "<a href=\"https://colab.research.google.com/github/JenniferPlothow/Database_expert/blob/main/aula1_ebac.ipynb\" target=\"_parent\"><img src=\"https://colab.research.google.com/assets/colab-badge.svg\" alt=\"Open In Colab\"/></a>"
      ]
    },
    {
      "cell_type": "code",
      "source": [
        "%%writefile carros.csv\n",
        "id,valor_venda,valor_manutencao,portas,pessoas,porta_malas\n",
        "1,vhigh,med,2,2,small\n",
        "2,med,vhigh,2,2,small\n",
        "3,low,vhigh,2,2,small\n",
        "4,low,high,2,2,small\n",
        "5,low,high,2,2,small\n",
        "6,low,high,4,4,big\n",
        "7,low,high,4,4,big\n",
        "8,low,med,2,2,small\n",
        "9,low,med,2,2,small\n",
        "10,low,med,2,2,small\n",
        "11,low,med,4,4,big\n",
        "12,low,low,2,2,small\n",
        "13,low,low,4,4,small\n",
        "14,low,low,4,4,med"
      ],
      "metadata": {
        "colab": {
          "base_uri": "https://localhost:8080/"
        },
        "id": "01JouG29iPIJ",
        "outputId": "90446764-eadf-4f5c-b375-5cba9b82869f"
      },
      "execution_count": 86,
      "outputs": [
        {
          "output_type": "stream",
          "name": "stdout",
          "text": [
            "Overwriting carros.csv\n"
          ]
        }
      ]
    },
    {
      "cell_type": "code",
      "source": [
        "#1.1. Extraia os valores `valor_venda` e armazena em uma lista.\n",
        "valor_venda = []\n",
        "\n",
        "with open(file='./carros.csv', mode='r', encoding='utf8') as arquivo:\n",
        "    linha = arquivo.readline()# lê o cabeçalho\n",
        "    linha = arquivo.readline()# lê a primeira linha\n",
        "    while linha:\n",
        "        linha_separada = linha.split(sep=',') # quebra a string nas virgulas e salva os resultados em uma lista\n",
        "        valor =linha_separada[1] # seleciona o segundo elemento da lista\n",
        "        valor = str(valor)\n",
        "        valor_venda.append(valor) # salva o valor na lista de valor_venda\n",
        "        linha = arquivo.readline() # lê uma nova linha, se a linha não existir, salva o valor None\n",
        "\n",
        "print(valor_venda)"
      ],
      "metadata": {
        "colab": {
          "base_uri": "https://localhost:8080/"
        },
        "id": "b_ShC_DwihJf",
        "outputId": "796fff86-a3b3-4a1f-f725-35c083c0d205"
      },
      "execution_count": 87,
      "outputs": [
        {
          "output_type": "stream",
          "name": "stdout",
          "text": [
            "['vhigh', 'med', 'low', 'low', 'low', 'low', 'low', 'low', 'low', 'low', 'low', 'low', 'low', 'low']\n"
          ]
        }
      ]
    },
    {
      "cell_type": "code",
      "source": [
        "#1.2 Complete a função abaixo para extrair uma coluna, do arquivo csv em uma lista.\n",
        "\n",
        "def extrai_coluna_csv(nome_arquivo='./carros.csv', indice_coluna=3):\n",
        "  coluna= []\n",
        "    #Extrair os dados do arquivo CSV\n",
        "  with open(file=nome_arquivo, mode='r', encoding='utf8')as fp:\n",
        "    linhas = fp.readlines()\n",
        "    for linha in linhas[1:]:\n",
        "      linha_separada = linha.split(sep=',')\n",
        "      linha_selec = linha_separada[indice_coluna]\n",
        "      coluna.append(linha_selec)\n",
        "    return coluna\n",
        "print(extrai_coluna_csv(indice_coluna=3))"
      ],
      "metadata": {
        "colab": {
          "base_uri": "https://localhost:8080/"
        },
        "id": "MFzV9z0AlkjB",
        "outputId": "bebbf618-d80e-4e2e-a10a-b7f44bcdda01"
      },
      "execution_count": 99,
      "outputs": [
        {
          "output_type": "stream",
          "name": "stdout",
          "text": [
            "['2', '2', '2', '2', '2', '4', '4', '2', '2', '2', '4', '2', '4', '4']\n"
          ]
        }
      ]
    },
    {
      "cell_type": "code",
      "source": [
        "#Complete a função abaixo para extrair uma coluna do arquivo csv em uma lista. Os elementos devem ter o tipo de dado correto.\n",
        "def extrai_coluna_csv(nome_arquivo='./carros.csv', indice_coluna=3, tipo_dado='str'):\n",
        "\n",
        "  coluna = []\n",
        "\n",
        "  with open (file=nome_arquivo, mode='r', encoding='utf8') as arquivo:\n",
        "    linha = arquivo.readline()\n",
        "    linha = arquivo.readline()\n",
        "\n",
        "    while linha:\n",
        "      linha_separada = linha.split(',')\n",
        "      linha = linha_separada[indice_coluna]\n",
        "      \n",
        "      if tipo_dado in linha == 'str':\n",
        "        coluna.append(linha)\n",
        "      else:\n",
        "        coluna.append(str(linha))\n",
        "      \n",
        "      linha = arquivo.readline()\n",
        "\n",
        "\n",
        "\n",
        "  return coluna\n",
        "extrai_coluna_csv()"
      ],
      "metadata": {
        "colab": {
          "base_uri": "https://localhost:8080/"
        },
        "id": "3qlntJjF81cB",
        "outputId": "b5f7d0d6-8bfc-4dae-a5d5-fcddadb1cb93"
      },
      "execution_count": 100,
      "outputs": [
        {
          "output_type": "execute_result",
          "data": {
            "text/plain": [
              "['2', '2', '2', '2', '2', '4', '4', '2', '2', '2', '4', '2', '4', '4']"
            ]
          },
          "metadata": {},
          "execution_count": 100
        }
      ]
    },
    {
      "cell_type": "code",
      "source": [
        "%%writefile musica.txt\n",
        "Roda Viva\n",
        "Chico Buarque\n",
        "\n",
        "Tem dias que a gente se sente\n",
        "Como quem partiu ou morreu\n",
        "A gente estancou de repente\n",
        "Ou foi o mundo então que cresceu\n",
        "A gente quer ter voz ativa\n",
        "No nosso destino mandar\n",
        "Mas eis que chega a roda viva\n",
        "E carrega o destino pra lá\n",
        "\n",
        "Roda mundo, roda-gigante\n",
        "Roda moinho, roda pião\n",
        "\n",
        "O tempo rodou num instante\n",
        "Nas voltas do meu coração\n",
        "A gente vai contra a corrente\n",
        "Até não poder resistir\n",
        "Na volta do barco é que sente\n",
        "O quanto deixou de cumprir\n",
        "Faz tempo que a gente cultiva\n",
        "A mais linda roseira que há\n",
        "Mas eis que chega a roda viva\n",
        "E carrega a roseira pra lá\n",
        "\n",
        "Roda mundo, roda-gigante\n",
        "Roda moinho, roda pião"
      ],
      "metadata": {
        "colab": {
          "base_uri": "https://localhost:8080/"
        },
        "id": "qUBh6oRdiTmv",
        "outputId": "7def0325-9b1a-4293-ccb3-9d0e2a4d28cd"
      },
      "execution_count": 59,
      "outputs": [
        {
          "output_type": "stream",
          "name": "stdout",
          "text": [
            "Writing musica.txt\n"
          ]
        }
      ]
    },
    {
      "cell_type": "code",
      "source": [
        "def extrai_linha_txt(nome_arquivo='./musica.txt', numero_linha= 8):\n",
        "\n",
        "  palavras_linha = []\n",
        "  with open(file=nome_arquivo, mode='r', encoding='utf8')as fp:\n",
        "    linhas = fp.readlines()\n",
        "    linha_sel = linhas[numero_linha]\n",
        "    linha_sep = linha_sel.split(sep=' ')\n",
        "    palavras_linha=linha_sep\n",
        "    return palavras_linha\n",
        "\n",
        "  # leia o arquivo com o comando 'with' utilizando o parametro 'nome_arquivo'\n",
        "  # extraia a linha do arquivo utilizando o parametro 'numero_linha'\n",
        "  # quebre a linha em palavras com o comando split, note que o separador é um espaço ' '\n",
        "\n",
        "  return palavras_linha\n",
        "extrai_linha_txt()"
      ],
      "metadata": {
        "colab": {
          "base_uri": "https://localhost:8080/"
        },
        "id": "BM9iLJiUG317",
        "outputId": "45d5bcce-81e6-428c-c281-7e0b94365f2e"
      },
      "execution_count": 110,
      "outputs": [
        {
          "output_type": "execute_result",
          "data": {
            "text/plain": [
              "['No', 'nosso', 'destino', 'mandar\\n']"
            ]
          },
          "metadata": {},
          "execution_count": 110
        }
      ]
    }
  ]
}